{
 "cells": [
  {
   "cell_type": "markdown",
   "id": "02134e7c-74e6-4ebc-82f3-df46a3205357",
   "metadata": {},
   "source": [
    "# Organise model and observational data \n",
    "- I am using the conda environment version 22.04 http://climate-cms.wikis.unsw.edu.au/Conda#22.04\n",
    "\n",
    "\n",
    "\n",
    "### In this notebook: \n",
    "- Pull out required model fields (bx400 = control, cg207 = 'ice' experiment) and organise to match observations. \n",
    "- Pull out already processed observation data and organise:  \n",
    "    - MODIS data has been downloaded from: https://ladsweb.modaps.eosdis.nasa.gov/archive/allData/61/MCD06COSP_D3_MODIS/ \n",
    "    - and then processed using this code  https://github.com/sfiddes/code_for_publications_2022/blob/main/ACCESS_cloud_radiation_eval/pre-processing.ipynb \n",
    "    - which was generated for Fiddes et al. 2022 (ACPD https://doi.org/10.5194/acp-2022-259)"
   ]
  },
  {
   "cell_type": "code",
   "execution_count": 1,
   "id": "ecc6ba77-8593-4138-8686-d0bfb9360d0a",
   "metadata": {},
   "outputs": [],
   "source": [
    "import sys\n",
    "import os\n",
    "import numpy as np\n",
    "import pandas as pd\n",
    "import xarray as xr"
   ]
  },
  {
   "cell_type": "markdown",
   "id": "70eecd26-119a-4c34-a6f6-c392cd5781fd",
   "metadata": {},
   "source": [
    "# ACCESS-AM2 Model "
   ]
  },
  {
   "cell_type": "code",
   "execution_count": 2,
   "id": "00b11c6b-a591-4e28-8920-c75678cd6325",
   "metadata": {},
   "outputs": [],
   "source": [
    "jobname = 'bx400' # or cg207"
   ]
  },
  {
   "cell_type": "code",
   "execution_count": 3,
   "id": "1bc75f91-352a-4e87-8776-c6c0782ea606",
   "metadata": {},
   "outputs": [],
   "source": [
    "fname = '/g/data/jk72/slf563/ACCESS/output/{}/daily/{}a.pdc2*'.format(jobname,jobname)\n",
    "data = xr.open_mfdataset(fname,parallel=True)\n",
    "#LWP_A = xr.DataArray((data['field2466']/data['field2330'])*1000,name='LWP') # convert from kg/m2 to g/m2\n",
    "#IWP_A = xr.DataArray((data['field2467']/data['field2330'])*1000,name='IWP') # convert from kg/m2 to g/m2\n",
    "CFL_A = xr.DataArray(data['field2452']/data['field2330'],name='CFL') \n",
    "CFI_A = xr.DataArray(data['field2453']/data['field2330'],name='CFI')\n",
    "TauL_A = xr.DataArray(data['field2458']/data['field2452'],name='TauL')\n",
    "TauI_A = xr.DataArray(data['field2459']/data['field2453'],name='TauI')\n",
    "CTP_A = xr.DataArray((data['field2465']/data['field2451'])/100,name='CTP') # convert to hPa"
   ]
  },
  {
   "cell_type": "code",
   "execution_count": 4,
   "id": "30bc5a72-2732-4e7f-93b9-cef9ea0b17b9",
   "metadata": {},
   "outputs": [],
   "source": [
    "fname = '/g/data/jk72/slf563/ACCESS/output/{}/daily/{}a.pd.glob20*'.format(jobname,jobname)\n",
    "data_met = xr.open_mfdataset(fname,parallel=True)\n",
    "CRESWT_A = xr.DataArray(data_met.rsutcs-data_met.rsut,name='SWCREtoa')\n",
    "SWT_A = xr.DataArray(data_met.rsut,name='SWtoa')\n",
    "# note I have used the raw model LWP/IWP not the COSP versions due to unrealistically large biases. See Fiddes et al. (2022) for details. \n",
    "LWP_A = xr.DataArray(data_met.lwp,name='LWP')*1000 # convert from kg/m2 to g/m2\n",
    "IWP_A = xr.DataArray(data_met.clivi,name='IWP')*1000 # convert from kg/m2 to g/m2"
   ]
  },
  {
   "cell_type": "code",
   "execution_count": 5,
   "id": "5c617000-42a8-49c1-ba55-7ad0be8c7d99",
   "metadata": {},
   "outputs": [],
   "source": [
    "# check preip rates to see if cloud life time may have changed?\n",
    "prl = xr.DataArray(data_met.prrn,name='rain')*60*60*24 # kg m-2 s-1 to mm/day\n",
    "prs = xr.DataArray(data_met.prsn,name='snow')*60*60*24 # kg m-2 s-1 to mm/day\n",
    "tmp = xr.merge([prl,prs])\n",
    "tmp.to_netcdf('/g/data/jk72/slf563/ACCESS/ML_data/precip_vars_{}_2015-2019.nc'.format(jobname))"
   ]
  },
  {
   "cell_type": "code",
   "execution_count": 6,
   "id": "bbfeadca-1790-4b4f-9d21-2a7a1496df4c",
   "metadata": {},
   "outputs": [],
   "source": [
    "mod = xr.merge([LWP_A,IWP_A,CFL_A,CFI_A,TauL_A,TauI_A,CTP_A,CRESWT_A,SWT_A])\n",
    "mod.to_netcdf('/g/data/jk72/slf563/ACCESS/ML_data/COSP_vars_{}_2015-2019.nc'.format(jobname))\n",
    "data.close()\n",
    "data_met.close()"
   ]
  },
  {
   "cell_type": "code",
   "execution_count": 7,
   "id": "6f5c78c1-ba0a-4e76-ae7f-7ef42f66dd91",
   "metadata": {},
   "outputs": [],
   "source": [
    "# obs "
   ]
  },
  {
   "cell_type": "code",
   "execution_count": 8,
   "id": "cec995e4-059c-4d40-a5a4-1a58352ca6e7",
   "metadata": {},
   "outputs": [],
   "source": [
    "fdir = '/g/data/p66/slf563/OBS/MCD06COSP_D3_MODIS/MCD06COSP_D3_MODIS.201*cloud.nc'\n",
    "MODIS = xr.open_mfdataset(fdir)"
   ]
  },
  {
   "cell_type": "code",
   "execution_count": 9,
   "id": "0bed95ed-8d6c-4aec-86fe-6d02c60115ce",
   "metadata": {},
   "outputs": [],
   "source": [
    "MODIS = MODIS[['CTP','LWP','IWP','CFI','CFL','TauL','TauI']]\n",
    "MODIS['LWP'] = MODIS['LWP']*MODIS['CFL'] # Multiply by the cloud fraction to match the access data\n",
    "MODIS['IWP'] = MODIS['IWP']*MODIS['CFI'] # Multiply by the cloud fraction to match the access data"
   ]
  },
  {
   "cell_type": "code",
   "execution_count": 10,
   "id": "761fd291-c84a-41a4-93ee-24f52354095d",
   "metadata": {},
   "outputs": [],
   "source": [
    "fdir = '/g/data/jk72/slf563/OBS/CERES_SYN1D/CERES_SYN1deg-Day_Terra-Aqua-MODIS_Ed4.1_Subset_*.nc'\n",
    "CERES = xr.open_mfdataset(fdir,parallel=True)\n",
    "CERES = CERES.sel(time=slice('20150101','20191231'))\n",
    "CERES = CERES.interp(lat=mod.lat,lon=mod.lon)\n",
    "\n",
    "CRESWT_M = xr.DataArray(CERES.toa_sw_clr_daily - CERES.toa_sw_all_daily,name='SWCREtoa')\n",
    "SWT_M = xr.DataArray(CERES.toa_sw_all_daily,name='SWtoa')"
   ]
  },
  {
   "cell_type": "code",
   "execution_count": 11,
   "id": "e47a1e39-d3d8-405c-90f0-f2e2b63c2683",
   "metadata": {},
   "outputs": [],
   "source": [
    "obs = xr.merge([MODIS,CRESWT_M,SWT_M,])\n",
    "obs = obs.transpose('time','lat','lon')\n",
    "obs.to_netcdf('/g/data/jk72/slf563/ACCESS/ML_data/COSP_vars_MODIS_2015-2019.nc')"
   ]
  },
  {
   "cell_type": "code",
   "execution_count": null,
   "id": "efe48347-55f3-4c19-b4e7-d7bee7fcd732",
   "metadata": {},
   "outputs": [],
   "source": []
  }
 ],
 "metadata": {
  "kernelspec": {
   "display_name": "Python [conda env:analysis3-22.04]",
   "language": "python",
   "name": "conda-env-analysis3-22.04-py"
  },
  "language_info": {
   "codemirror_mode": {
    "name": "ipython",
    "version": 3
   },
   "file_extension": ".py",
   "mimetype": "text/x-python",
   "name": "python",
   "nbconvert_exporter": "python",
   "pygments_lexer": "ipython3",
   "version": "3.9.13"
  }
 },
 "nbformat": 4,
 "nbformat_minor": 5
}
